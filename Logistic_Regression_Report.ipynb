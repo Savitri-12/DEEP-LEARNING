{
 "cells": [
  {
   "cell_type": "markdown",
   "id": "e451d277",
   "metadata": {},
   "source": [
    "\n",
    "# Logistic Regression Project Report\n",
    "\n",
    "This notebook demonstrates the complete workflow for a Logistic Regression binary classification task, including:\n",
    "- Data generation\n",
    "- Preprocessing (handling missing values, normalization)\n",
    "- Model training\n",
    "- Evaluation metrics (accuracy, precision, recall, F1-score, confusion matrix)\n",
    "- Hyperparameter tuning\n",
    "\n",
    "Let's begin!\n"
   ]
  },
  {
   "cell_type": "markdown",
   "id": "78a94433",
   "metadata": {},
   "source": [
    "## Data Preparation and Preprocessing"
   ]
  },
  {
   "cell_type": "code",
   "execution_count": null,
   "id": "8d9e8506",
   "metadata": {},
   "outputs": [],
   "source": [
    "\n",
    "import numpy as np\n",
    "import pandas as pd\n",
    "from sklearn.datasets import make_classification\n",
    "from sklearn.model_selection import train_test_split\n",
    "from sklearn.preprocessing import StandardScaler\n",
    "from sklearn.linear_model import LogisticRegression\n",
    "from sklearn.metrics import accuracy_score, precision_score, recall_score, f1_score, confusion_matrix, classification_report\n",
    "from sklearn.model_selection import GridSearchCV\n",
    "import matplotlib.pyplot as plt\n",
    "import seaborn as sns\n",
    "\n",
    "# Generate synthetic data\n",
    "X, y = make_classification(n_samples=1000, n_features=5, n_informative=3, n_redundant=0, \n",
    "                           weights=[0.6, 0.4], random_state=42)\n",
    "df = pd.DataFrame(X, columns=['Feature1', 'Feature2', 'Feature3', 'Feature4', 'Feature5'])\n",
    "df['Target'] = y\n",
    "df.loc[::10, 'Feature2'] = np.nan  # Introduce missing values\n",
    "\n",
    "# Preprocessing\n",
    "df['Feature2'].fillna(df['Feature2'].mean(), inplace=True)\n",
    "X = df.drop('Target', axis=1)\n",
    "y = df['Target']\n",
    "X_train, X_test, y_train, y_test = train_test_split(X, y, test_size=0.2, stratify=y, random_state=42)\n",
    "scaler = StandardScaler()\n",
    "X_train_scaled = scaler.fit_transform(X_train)\n",
    "X_test_scaled = scaler.transform(X_test)\n"
   ]
  },
  {
   "cell_type": "markdown",
   "id": "0459c722",
   "metadata": {},
   "source": [
    "## Model Training and Evaluation"
   ]
  },
  {
   "cell_type": "code",
   "execution_count": null,
   "id": "719eefa7",
   "metadata": {},
   "outputs": [],
   "source": [
    "\n",
    "# Train initial model\n",
    "model = LogisticRegression(random_state=42)\n",
    "model.fit(X_train_scaled, y_train)\n",
    "y_pred = model.predict(X_test_scaled)\n",
    "\n",
    "# Evaluation\n",
    "print(\"Default Model Performance:\")\n",
    "print(classification_report(y_test, y_pred))\n",
    "cm = confusion_matrix(y_test, y_pred)\n",
    "sns.heatmap(cm, annot=True, fmt='d', cmap='Blues')\n",
    "plt.title(\"Confusion Matrix (Default Model)\")\n",
    "plt.show()\n"
   ]
  },
  {
   "cell_type": "markdown",
   "id": "947b7b25",
   "metadata": {},
   "source": [
    "## Hyperparameter Tuning"
   ]
  },
  {
   "cell_type": "code",
   "execution_count": null,
   "id": "e06c6ac8",
   "metadata": {},
   "outputs": [],
   "source": [
    "\n",
    "# Hyperparameter Tuning\n",
    "param_grid = {'C': [0.01, 0.1, 1, 10, 100], 'solver': ['liblinear', 'lbfgs']}\n",
    "grid = GridSearchCV(LogisticRegression(random_state=42), param_grid, cv=5, scoring='f1')\n",
    "grid.fit(X_train_scaled, y_train)\n",
    "print(\"Best Parameters:\", grid.best_params_)\n",
    "\n",
    "# Tuned Model\n",
    "best_model = grid.best_estimator_\n",
    "y_pred_best = best_model.predict(X_test_scaled)\n",
    "print(\"Tuned Model Performance:\")\n",
    "print(classification_report(y_test, y_pred_best))\n",
    "cm_best = confusion_matrix(y_test, y_pred_best)\n",
    "sns.heatmap(cm_best, annot=True, fmt='d', cmap='Greens')\n",
    "plt.title(\"Confusion Matrix (Tuned Model)\")\n",
    "plt.show()\n"
   ]
  },
  {
   "cell_type": "markdown",
   "id": "039f7b2f",
   "metadata": {},
   "source": [
    "\n",
    "## Conclusion\n",
    "\n",
    "✅ Logistic Regression is a robust, interpretable model for binary classification.  \n",
    "✅ Data preprocessing (handling missing values, normalization) is critical for performance.  \n",
    "✅ Hyperparameter tuning (especially C) can improve recall and overall F1-score.  \n",
    "✅ Confusion matrix analysis provides valuable insights into model strengths and weaknesses.\n",
    "\n",
    "---\n",
    "\n",
    "✅ Future Work:\n",
    "- Explore ROC-AUC and PR curves\n",
    "- Test on real-world datasets\n",
    "- Perform feature selection for further optimization\n"
   ]
  }
 ],
 "metadata": {
  "language_info": {
   "name": "python"
  }
 },
 "nbformat": 4,
 "nbformat_minor": 5
}
